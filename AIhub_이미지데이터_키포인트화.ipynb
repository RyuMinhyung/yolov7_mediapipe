{
 "cells": [
  {
   "cell_type": "code",
   "execution_count": 2,
   "id": "bded74aa-43d5-4268-818d-cb30aac77b48",
   "metadata": {
    "tags": []
   },
   "outputs": [
    {
     "name": "stdout",
     "output_type": "stream",
     "text": [
      "^C\n"
     ]
    }
   ],
   "source": [
    "!python yolov7_tracking.py \\\n",
    "--weights yolov7.pt \\\n",
    "--img-size 960 \\\n",
    "--classes 0 \\\n",
    "--source 0 \\\n",
    "--project \"image_new_result/\" \\\n",
    "--conf-thres 0.3 \\\n",
    "--no-trace \\\n",
    "--track \\\n",
    "--thickness 4 \\\n",
    "--frame-interval 1 \\\n",
    "--model-complexity 2 \\\n",
    "--nosave"
   ]
  }
 ],
 "metadata": {
  "kernelspec": {
   "display_name": "Python 3 (ipykernel)",
   "language": "python",
   "name": "python3"
  },
  "language_info": {
   "codemirror_mode": {
    "name": "ipython",
    "version": 3
   },
   "file_extension": ".py",
   "mimetype": "text/x-python",
   "name": "python",
   "nbconvert_exporter": "python",
   "pygments_lexer": "ipython3",
   "version": "3.9.16"
  }
 },
 "nbformat": 4,
 "nbformat_minor": 5
}
